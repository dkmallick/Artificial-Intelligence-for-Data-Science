{
 "cells": [
  {
   "cell_type": "code",
   "execution_count": 1,
   "metadata": {},
   "outputs": [
    {
     "name": "stdout",
     "output_type": "stream",
     "text": [
      "Downloading data from https://storage.googleapis.com/tensorflow/tf-keras-datasets/train-labels-idx1-ubyte.gz\n",
      "32768/29515 [=================================] - 0s 2us/step\n",
      "Downloading data from https://storage.googleapis.com/tensorflow/tf-keras-datasets/train-images-idx3-ubyte.gz\n",
      "26427392/26421880 [==============================] - 62s 2us/step\n",
      "Downloading data from https://storage.googleapis.com/tensorflow/tf-keras-datasets/t10k-labels-idx1-ubyte.gz\n",
      "8192/5148 [===============================================] - 0s 1us/step\n",
      "Downloading data from https://storage.googleapis.com/tensorflow/tf-keras-datasets/t10k-images-idx3-ubyte.gz\n",
      "4423680/4422102 [==============================] - 41s 9us/step\n"
     ]
    }
   ],
   "source": [
    "import tensorflow as tf\n",
    "from tensorflow import keras\n",
    "\n",
    "\n",
    "(x_train,y_train),(x_val,y_val) = keras.datasets.fashion_mnist.load_data()"
   ]
  },
  {
   "cell_type": "code",
   "execution_count": 2,
   "metadata": {},
   "outputs": [],
   "source": [
    "def preprocess(x, y):\n",
    "    x = tf.cast(x, tf.float32) / 255.0\n",
    "    y = tf.cast(y, tf.int64)\n",
    "    return x, y\n",
    "\n",
    "def create_dataset(xs, ys, n_classes=10):\n",
    "    ys = tf.one_hot(ys, depth=n_classes)\n",
    "    return tf.data.Dataset.from_tensor_slices((xs, ys)).map(preprocess).shuffle(len(ys)).batch(128)"
   ]
  },
  {
   "cell_type": "code",
   "execution_count": 3,
   "metadata": {},
   "outputs": [],
   "source": [
    "train_data_set = create_dataset(x_train,y_train)\n",
    "validation_data_set = create_dataset(x_val,y_val)"
   ]
  },
  {
   "cell_type": "code",
   "execution_count": 4,
   "metadata": {},
   "outputs": [],
   "source": [
    "model = keras.Sequential([\n",
    "    keras.layers.Reshape(target_shape=(28 * 28,), input_shape=(28, 28)),\n",
    "    keras.layers.Dense(units=256, activation='relu'),\n",
    "    keras.layers.Dense(units=192, activation='relu'),\n",
    "    keras.layers.Dense(units=128, activation='relu'),\n",
    "    keras.layers.Dense(units=10, activation='softmax')\n",
    "])"
   ]
  },
  {
   "cell_type": "code",
   "execution_count": 5,
   "metadata": {},
   "outputs": [
    {
     "name": "stdout",
     "output_type": "stream",
     "text": [
      "Epoch 1/10\n",
      "500/500 [==============================] - 36s 72ms/step - loss: 1.6856 - accuracy: 0.7817 - val_loss: 1.5688 - val_accuracy: 0.8984\n",
      "Epoch 2/10\n",
      "500/500 [==============================] - 34s 68ms/step - loss: 1.6232 - accuracy: 0.8382 - val_loss: 1.6165 - val_accuracy: 0.8438\n",
      "Epoch 3/10\n",
      "500/500 [==============================] - 34s 69ms/step - loss: 1.6118 - accuracy: 0.8494 - val_loss: 1.6446 - val_accuracy: 0.8164\n",
      "Epoch 4/10\n",
      "500/500 [==============================] - 35s 70ms/step - loss: 1.6081 - accuracy: 0.8530 - val_loss: 1.5648 - val_accuracy: 0.8945\n",
      "Epoch 5/10\n",
      "500/500 [==============================] - 34s 69ms/step - loss: 1.5985 - accuracy: 0.8622 - val_loss: 1.6015 - val_accuracy: 0.8516\n",
      "Epoch 6/10\n",
      "500/500 [==============================] - 35s 69ms/step - loss: 1.5980 - accuracy: 0.8627 - val_loss: 1.6176 - val_accuracy: 0.8438\n",
      "Epoch 7/10\n",
      "500/500 [==============================] - 35s 69ms/step - loss: 1.5950 - accuracy: 0.8657 - val_loss: 1.6211 - val_accuracy: 0.8398\n",
      "Epoch 8/10\n",
      "500/500 [==============================] - 35s 70ms/step - loss: 1.5932 - accuracy: 0.8675 - val_loss: 1.6489 - val_accuracy: 0.8086\n",
      "Epoch 9/10\n",
      "500/500 [==============================] - 35s 70ms/step - loss: 1.5883 - accuracy: 0.8726 - val_loss: 1.5882 - val_accuracy: 0.8750\n",
      "Epoch 10/10\n",
      "500/500 [==============================] - 35s 71ms/step - loss: 1.5901 - accuracy: 0.8705 - val_loss: 1.6053 - val_accuracy: 0.8516\n"
     ]
    }
   ],
   "source": [
    "model.compile(optimizer='adam', \n",
    "              loss=tf.losses.CategoricalCrossentropy(from_logits=True),\n",
    "              metrics=['accuracy'])\n",
    "\n",
    "\n",
    "\n",
    "history = model.fit(\n",
    "    train_data_set.repeat(), \n",
    "    epochs=10, \n",
    "    steps_per_epoch=500,\n",
    "    validation_data=validation_data_set.repeat(), \n",
    "    validation_steps=2\n",
    ")"
   ]
  },
  {
   "cell_type": "code",
   "execution_count": 6,
   "metadata": {},
   "outputs": [],
   "source": [
    "predicted_value = model.predict(validation_data_set)"
   ]
  },
  {
   "cell_type": "code",
   "execution_count": 7,
   "metadata": {},
   "outputs": [
    {
     "name": "stdout",
     "output_type": "stream",
     "text": [
      "[3.9344349e-28 6.8099019e-36 7.7428493e-27 6.8575412e-25 1.5777323e-25\n",
      " 4.6549968e-22 2.9683239e-30 4.9451559e-21 2.8977884e-26 1.0000000e+00]\n"
     ]
    }
   ],
   "source": [
    "print (predicted_value[0])"
   ]
  },
  {
   "cell_type": "code",
   "execution_count": 8,
   "metadata": {},
   "outputs": [
    {
     "data": {
      "text/plain": [
       "9"
      ]
     },
     "execution_count": 8,
     "metadata": {},
     "output_type": "execute_result"
    }
   ],
   "source": [
    "import numpy as np\n",
    "np.argmax(predicted_value[0])"
   ]
  },
  {
   "cell_type": "code",
   "execution_count": null,
   "metadata": {},
   "outputs": [],
   "source": []
  }
 ],
 "metadata": {
  "kernelspec": {
   "display_name": "Python 3",
   "language": "python",
   "name": "python3"
  },
  "language_info": {
   "codemirror_mode": {
    "name": "ipython",
    "version": 3
   },
   "file_extension": ".py",
   "mimetype": "text/x-python",
   "name": "python",
   "nbconvert_exporter": "python",
   "pygments_lexer": "ipython3",
   "version": "3.8.8"
  }
 },
 "nbformat": 4,
 "nbformat_minor": 4
}
